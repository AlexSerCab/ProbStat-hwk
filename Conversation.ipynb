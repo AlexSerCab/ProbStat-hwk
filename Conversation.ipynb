{
 "cells": [
  {
   "cell_type": "code",
   "execution_count": 19,
   "metadata": {},
   "outputs": [
    {
     "name": "stdout",
     "output_type": "stream",
     "text": [
      "Hi, I am your computer. What is your name? Alex\n",
      "Hi, Alex. I can evaluate many situations. I can tell you if you \n",
      "are older enough to legaly drive a car.\n",
      "You want me to tell you if you can legaly drive a car? Yes\n",
      "How old are you? 19\n",
      "You can legaly drive a car :) !\n",
      "Alex, want me to do something else? Yes\n",
      "I can do a summatoruy. You want me to show you? Yes\n",
      "Give me the first number: 8\n",
      "Give me the second number: 11\n",
      "19\n",
      "Alex, want me to do something else? Yes\n",
      "I can tell you what cellphone is the best for you, or at least \n",
      "the brand that could like you. Please select your best feature \n",
      "using the letter behind it.\n",
      "\n",
      "A) Photography \n",
      "B) Speed \n",
      "C) Batery \n",
      "D) Secutiry \n",
      "\n",
      "A\n",
      "Then your best brand could be Apple or Huawei.\n"
     ]
    }
   ],
   "source": [
    "name = input(\"Hi, I am your computer. What is your name? \")\n",
    "print(f\"Hi, {name}. I can evaluate many situations. I can tell you if you \\nare older enough to legaly drive a car.\")\n",
    "a = input(\"You want me to tell you if you can legaly drive a car? \")\n",
    "if a == \"yes\" or a == \"Yes\" or a == \"YES\" or a == \"yES\" or a == \"YeS\" or a == \"YEs\" or a == \"yeS\" or a == \"yEs\" :\n",
    "    age = int(input (\"How old are you? \"))\n",
    "    if age < 18 :\n",
    "        print(\"You are not older enough to drive a car :( \")\n",
    "    else :\n",
    "        print(\"You can legaly drive a car :) !\")\n",
    "else:\n",
    "    print(\"Never mind.\")\n",
    "\n",
    "b = input(f\"{name}, want me to do something else? \" )\n",
    "if b == \"yes\" or b == \"Yes\" or b == \"YES\" or b == \"yES\" or b == \"YeS\" or b == \"YEs\" or b == \"yeS\" or b == \"yEs\" :\n",
    "    e = input(\"I can do a summatoruy. You want me to show you? \")\n",
    "    if e == \"yes\"  or e == \"Yes\" or e == \"YES\" or e == \"yES\" or e == \"YeS\" or e == \"YEs\" or e == \"yeS\" or e == \"yEs\" :\n",
    "        n1 = int(input(\"Give me the first number: \"))\n",
    "        n2 = int(input(\"Give me the second number: \"))\n",
    "        print (n1 + n2)\n",
    "else :\n",
    "    print (\"Okay :( \")\n",
    "    \n",
    "b = input(f\"{name}, want me to do something else? \" )\n",
    "if b == \"yes\" or b == \"Yes\" or b == \"YES\" or b == \"yES\" or b == \"YeS\" or b == \"YEs\" or b == \"yeS\" or b == \"yEs\" :\n",
    "    print(\"I can tell you what cellphone is the best for you, or at least \\nthe brand that could like you. Please select your best feature \\nusing the letter behind it.\\n\")\n",
    "    print(\"A) Photography \\nB) Speed \\nC) Batery \\nD) Secutiry \\n\")\n",
    "    cell = input()\n",
    "    if cell == \"A\" or cell == \"a\":\n",
    "        print(\"Then your best brand could be Apple or Huawei.\")\n",
    "    elif cell == \"B\" or cell == \"b\":\n",
    "        print (\"Then your best brand could be OnePlus.\")\n",
    "    elif cell == \"C\" or cell == \"c\":\n",
    "        print (\"Then your best brand could be Motorola.\")\n",
    "    elif cell == \"D\" or cell == \"d\":\n",
    "        print (\"Then your best brand could be BlackBerry.\")\n",
    "else :\n",
    "    print (\"Then we finish for today\")"
   ]
  }
 ],
 "metadata": {
  "kernelspec": {
   "display_name": "Python 3",
   "language": "python",
   "name": "python3"
  },
  "language_info": {
   "codemirror_mode": {
    "name": "ipython",
    "version": 3
   },
   "file_extension": ".py",
   "mimetype": "text/x-python",
   "name": "python",
   "nbconvert_exporter": "python",
   "pygments_lexer": "ipython3",
   "version": "3.7.3"
  }
 },
 "nbformat": 4,
 "nbformat_minor": 2
}
