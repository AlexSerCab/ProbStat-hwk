{
 "cells": [
  {
   "cell_type": "code",
   "execution_count": 2,
   "metadata": {},
   "outputs": [
    {
     "name": "stdout",
     "output_type": "stream",
     "text": [
      "Hi, I am your computer. What is your name? \n",
      " Alex\n",
      "Hi, Alex. I can evaluate many situations. I can tell you if your are older enough to drive a car.\n",
      "You want me to tell you?\n",
      "yes\n",
      "How old are you? 19\n",
      "You can drive a car :) !\n",
      "Alex, want me to do something else?yes\n",
      "I can do a summatoruy, give me two numbers.\n",
      "Give me the first number: 19\n",
      "Give me the second number: 11\n",
      "30\n",
      "Alex, want me to do something else?yes\n",
      "I can tell you what cellphone is the best for you, or at least the brand that could like you, please use the letter\n",
      " A) Photography \n",
      " B) Speed \n",
      " C) Batery \n",
      " D) Secutiry\n",
      "B\n",
      "Then your best brand could be OnePlus\n"
     ]
    }
   ],
   "source": [
    "name = input(\"Hi, I am your computer. What is your name? \\n \")\n",
    "a = input(f\"Hi, {name}. I can evaluate many situations. I can tell you if your are older enough to drive a car.\\nYou want me to tell you if you can drive a car?\\n\")\n",
    "if a == \"yes\" or a == \"Yes\" or a == \"YES\" or a == \"yES\" or a == \"YeS\" or a == \"YEs\" or a == \"yeS\" or a == \"yEs\" :\n",
    "    age = int(input (\"How old are you? \"))\n",
    "    if age < 18 :\n",
    "        print(\"You are not older enough to drive a car :( \")\n",
    "    else :\n",
    "        print(\"You can drive a car :) !\")\n",
    "else:\n",
    "    print(\"Never mind.\")\n",
    "\n",
    "b = input(f\"{name}, want me to do something else?\" )\n",
    "if b == \"yes\" or a == \"Yes\" or a == \"YES\" or a == \"yES\" or a == \"YeS\" or a == \"YEs\" or a == \"yeS\" or a == \"yEs\" :\n",
    "    print(\"I can do a summatoruy, give me two numbers.\")\n",
    "    n1 = int(input(\"Give me the first number: \"))\n",
    "    n2 = int(input(\"Give me the second number: \"))\n",
    "    print (int(n1 + n2))\n",
    "else :\n",
    "    print (\"Okay :( \")\n",
    "    \n",
    "b = input(f\"{name}, want me to do something else?\" )\n",
    "if b == \"yes\" or a == \"Yes\" or a == \"YES\" or a == \"yES\" or a == \"YeS\" or a == \"YEs\" or a == \"yeS\" or a == \"yEs\" :\n",
    "    print(\"I can tell you what cellphone is the best for you, or at least the brand that could like you, please use the letter\")\n",
    "    print(\" A) Photography \\n B) Speed \\n C) Batery \\n D) Secutiry\")\n",
    "    cell = input()\n",
    "    if cell == \"A\" or cell == \"a\":\n",
    "        print(\"Then your best brand could be Apple or Huawei\")\n",
    "    elif cell == \"B\" or cell == \"b\":\n",
    "        print (\"Then your best brand could be OnePlus\")\n",
    "    elif cell == \"C\" or cell == \"c\":\n",
    "        print (\"Then your best brand could be Motorola\")\n",
    "    elif cell == \"D\" or cell == \"d\":\n",
    "        print (\"Then your best brand could be BlackBerry\")\n",
    "else :\n",
    "    print (\"Then we finish for today\")"
   ]
  }
 ],
 "metadata": {
  "kernelspec": {
   "display_name": "Python 3",
   "language": "python",
   "name": "python3"
  },
  "language_info": {
   "codemirror_mode": {
    "name": "ipython",
    "version": 3
   },
   "file_extension": ".py",
   "mimetype": "text/x-python",
   "name": "python",
   "nbconvert_exporter": "python",
   "pygments_lexer": "ipython3",
   "version": "3.7.3"
  }
 },
 "nbformat": 4,
 "nbformat_minor": 2
}
