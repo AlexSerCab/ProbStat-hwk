{
 "cells": [
  {
   "cell_type": "code",
   "execution_count": 55,
   "metadata": {},
   "outputs": [
    {
     "name": "stdout",
     "output_type": "stream",
     "text": [
      "How many names want you to introduce in the list? 6\n",
      "Introduce a value: 1\n",
      "Introduce a value: 2\n",
      "Introduce a value: 3\n",
      "Introduce a value: 4\n",
      "Introduce a value: 5\n",
      "Introduce a value: 6\n",
      "Treamed Mean %: 10\n",
      "[2.0, 3.0, 4.0, 5.0, 6.0]\n",
      "[5.0, 4.0, 3.0, 2.0]\n",
      "3.5\n"
     ]
    }
   ],
   "source": [
    "n = 0\n",
    "tmean = []\n",
    "\n",
    "c = int(input(\"How many names want you to introduce in the list? \"))\n",
    "\n",
    "for i in range (0, c):\n",
    "    x = float(input(\"Introduce a value: \")) \n",
    "    n += 1\n",
    "    tmean.append(x)\n",
    "\n",
    "\n",
    "prctg = int(input(\"Treamed Mean %: \"))\n",
    "k = (n/prctg)\n",
    "kt = (n//prctg)\n",
    "contador = 0\n",
    "tmean.pop(0)\n",
    "l = kt-1\n",
    "\n",
    "\n",
    "for i in range (0, kt):\n",
    "    contador = contador + 1\n",
    "    tmean.pop(contador)\n",
    "    \n",
    "print (tmean)\n",
    "\n",
    "tmean.sort(reverse=True)\n",
    "contador = 0\n",
    "tmean.pop(0)\n",
    "\n",
    "for i in range (0, kt):\n",
    "    contador = contador + 1\n",
    "    tmean.pop(contador)\n",
    "\n",
    "print(tmean)\n",
    "\n",
    "sumatoria = sum(tmean)\n",
    "divisor = len(tmean)\n",
    "\n",
    "print(sumatoria/divisor)"
   ]
  }
 ],
 "metadata": {
  "kernelspec": {
   "display_name": "Python 3",
   "language": "python",
   "name": "python3"
  },
  "language_info": {
   "codemirror_mode": {
    "name": "ipython",
    "version": 3
   },
   "file_extension": ".py",
   "mimetype": "text/x-python",
   "name": "python",
   "nbconvert_exporter": "python",
   "pygments_lexer": "ipython3",
   "version": "3.7.3"
  }
 },
 "nbformat": 4,
 "nbformat_minor": 2
}
