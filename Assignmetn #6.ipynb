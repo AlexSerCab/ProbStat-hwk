{
 "cells": [
  {
   "cell_type": "code",
   "execution_count": 15,
   "metadata": {},
   "outputs": [
    {
     "name": "stdout",
     "output_type": "stream",
     "text": [
      "If you want finish introducing your data write 0.\n",
      "Introduce a value: 2\n",
      "Introduce a value: 5\n",
      "Introduce a value: 6\n",
      "Introduce a value: 3\n",
      "Introduce a value: 0\n",
      "What operation you want me to do? \n",
      "A) Mean\n",
      "B) Mode\n",
      "C) Standard Deviation\n",
      "C\n",
      "Your standard Deviation is:  8.0\n"
     ]
    }
   ],
   "source": [
    "i = 1\n",
    "n = 0\n",
    "mean = 0\n",
    "operations = [\"A) Mean\", \"B) Mode\", \"C) Standard Deviation\"]\n",
    "\n",
    "print(\"If you want finish introducing your data write 0.\")\n",
    "\n",
    "while n <= 1:\n",
    "    i = float(input(\"Introduce a value: \"))\n",
    "    mean += i\n",
    "    if i == 0:\n",
    "        print(\"You need more values.\")\n",
    "    else:\n",
    "        n += 1\n",
    "    \n",
    "while i != 0:\n",
    "    i = float(input(\"Introduce a value: \"))\n",
    "    mean += i\n",
    "    n += 1\n",
    "    var = ((i - mean)**2)/(n-1)\n",
    "    s = var**0.5\n",
    "    \n",
    "print(\"What operation you want me to do? \")\n",
    "for a in operations:\n",
    "    print(a)\n",
    "\n",
    "operation = input()\n",
    "\n",
    "if operation == \"A\" or operation == \"a\" or operation == \"A)\" or operation == \"a)\" :\n",
    "    print(\"Your Mean is \", mean/n )\n",
    "\n",
    "elif operation == \"B\" or operation == \"b\" or operation == \"B)\" or operation == \"b)\" :\n",
    "    print (\"Your Mode is \") #I don't know how to do this teacher, excuse me.\n",
    "    \n",
    "elif operation == \"C\" or operation == \"c\" or operation == \"C)\" or operation == \"c)\" :\n",
    "    print(\"Your standard Deviation is: \", s)"
   ]
  },
  {
   "cell_type": "code",
   "execution_count": null,
   "metadata": {},
   "outputs": [],
   "source": []
  }
 ],
 "metadata": {
  "kernelspec": {
   "display_name": "Python 3",
   "language": "python",
   "name": "python3"
  },
  "language_info": {
   "codemirror_mode": {
    "name": "ipython",
    "version": 3
   },
   "file_extension": ".py",
   "mimetype": "text/x-python",
   "name": "python",
   "nbconvert_exporter": "python",
   "pygments_lexer": "ipython3",
   "version": "3.7.3"
  }
 },
 "nbformat": 4,
 "nbformat_minor": 2
}
