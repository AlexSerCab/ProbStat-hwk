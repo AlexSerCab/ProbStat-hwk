{
 "cells": [
  {
   "cell_type": "markdown",
   "metadata": {},
   "source": [
    "# A good first program"
   ]
  },
  {
   "cell_type": "markdown",
   "metadata": {},
   "source": [
    "In this first exercise the book puts into practice the print \n",
    "that is the order or command that will make a text that we choose,\n",
    "be displayed on the screen."
   ]
  },
  {
   "cell_type": "markdown",
   "metadata": {},
   "source": [
    "###### EXAMPLE"
   ]
  },
  {
   "cell_type": "code",
   "execution_count": 5,
   "metadata": {},
   "outputs": [
    {
     "name": "stdout",
     "output_type": "stream",
     "text": [
      "I am doing homework\n"
     ]
    }
   ],
   "source": [
    "print(\"I am doing homework\")"
   ]
  },
  {
   "cell_type": "markdown",
   "metadata": {},
   "source": [
    "# Comments and Pound Characters"
   ]
  },
  {
   "cell_type": "markdown",
   "metadata": {},
   "source": [
    "You can also put some comments in your code in order to help you or someone else to understand what you are coding and what does every line do. To do this we use \"#\" which makes the code enter in a \"standby\" mode, the program won't execute any text after the \"#\"."
   ]
  },
  {
   "cell_type": "markdown",
   "metadata": {},
   "source": [
    "###### EXAMPLE"
   ]
  },
  {
   "cell_type": "code",
   "execution_count": 6,
   "metadata": {},
   "outputs": [
    {
     "name": "stdout",
     "output_type": "stream",
     "text": [
      "I am doing homework\n"
     ]
    }
   ],
   "source": [
    "print(\"I am doing homework\") # This will show in the screen all the text that we put between quotation marks"
   ]
  },
  {
   "cell_type": "markdown",
   "metadata": {},
   "source": [
    "# Numbers and Math"
   ]
  },
  {
   "cell_type": "markdown",
   "metadata": {},
   "source": [
    "This chapter will help us with basically all the numbers and things we want to do with them. The programming language let us do mathematical exercises and evaluate certain situations. You can compare numbers and give a non-numerical result, evaluating the data that is written."
   ]
  },
  {
   "cell_type": "markdown",
   "metadata": {},
   "source": [
    "###### EXAMPLE"
   ]
  },
  {
   "cell_type": "code",
   "execution_count": 10,
   "metadata": {},
   "outputs": [
    {
     "name": "stdout",
     "output_type": "stream",
     "text": [
      "You can do arithmetic operations like 2+3+4/6 = 5.666666666666667\n"
     ]
    }
   ],
   "source": [
    "print (\"You can do arithmetic operations like: 2+3+4/6 =\", 2+3+4/6)"
   ]
  },
  {
   "cell_type": "code",
   "execution_count": 11,
   "metadata": {},
   "outputs": [
    {
     "name": "stdout",
     "output_type": "stream",
     "text": [
      "Or you can compare numbers like: 2+3<5+1? True\n"
     ]
    }
   ],
   "source": [
    "print (\"Or you can compare numbers like: 2+3<5+1?\", 2+3<5+1)"
   ]
  },
  {
   "cell_type": "markdown",
   "metadata": {},
   "source": [
    "# Variables and Names"
   ]
  },
  {
   "cell_type": "markdown",
   "metadata": {},
   "source": [
    "Variables and numbers are shortcuts, so to speak, that can be given to numbers. To make it clearer, you are giving a numeric value to a letter or sentence. This serves for too many things, such as to do chain actions. In fact, they are the basis of number system converters and many other programs."
   ]
  },
  {
   "cell_type": "markdown",
   "metadata": {},
   "source": [
    "###### EXAMPLE"
   ]
  },
  {
   "cell_type": "code",
   "execution_count": 19,
   "metadata": {},
   "outputs": [
    {
     "name": "stdout",
     "output_type": "stream",
     "text": [
      "Sum Ratings: 265\n",
      "Total Score: 280\n"
     ]
    }
   ],
   "source": [
    "calif1 = 90\n",
    "calif2 = 95\n",
    "calif3 = 80\n",
    "e=15\n",
    "\n",
    "print(\"Sum Ratings:\", calif1+calif2+calif3)\n",
    "\n",
    "print(\"Total Score:\", calif1+calif2+calif3+e)"
   ]
  },
  {
   "cell_type": "markdown",
   "metadata": {},
   "source": [
    "# More Variables and Printing"
   ]
  },
  {
   "cell_type": "markdown",
   "metadata": {},
   "source": [
    "We can also use variables between text using \"f{here_is_the_name_of_the_variable}\".We use the \"f\" to stablish an order to python put variables in the string. This has some uses to elaborate personalized text and save some time to avoid writting the same number and instead use variables and names."
   ]
  },
  {
   "cell_type": "markdown",
   "metadata": {},
   "source": [
    "###### EXAMPLE"
   ]
  },
  {
   "cell_type": "code",
   "execution_count": 21,
   "metadata": {},
   "outputs": [
    {
     "name": "stdout",
     "output_type": "stream",
     "text": [
      "Well mom, in Englis, my actual grade is 90\n",
      "In Derivative Calculous is 95\n",
      "But I  got 80 in PLC\n",
      "Oh i also have 15 extra points\n"
     ]
    }
   ],
   "source": [
    "calif1 = 90\n",
    "calif2 = 95\n",
    "calif3 = 80\n",
    "e=15\n",
    "\n",
    "print(f\"Well mom, in Englis, my actual grade is {calif1}\")\n",
    "print(f\"In Derivative Calculous is {calif2}\")\n",
    "print(f\"But I  got {calif3} in PLC\")\n",
    "print(f\"Oh i also have {e} extra points\")"
   ]
  },
  {
   "cell_type": "markdown",
   "metadata": {},
   "source": [
    "# Strings and Text"
   ]
  },
  {
   "cell_type": "markdown",
   "metadata": {},
   "source": [
    "Strings are the lines of text that we have been using since now. They can contain variables, numbers and formats. \n",
    "Python knows when we want to use a string when we put a text in quotes or double-quotes.\n",
    "We can print the strings in order to show the text outside the code. But we can also save strings in variables. The principal function I see to this is avoiding \"copy paste\" when you are going to write the same thing several times."
   ]
  },
  {
   "cell_type": "markdown",
   "metadata": {},
   "source": [
    "###### EXAMPLE"
   ]
  },
  {
   "cell_type": "code",
   "execution_count": 27,
   "metadata": {},
   "outputs": [
    {
     "name": "stdout",
     "output_type": "stream",
     "text": [
      "His name is Carlos\n",
      "His name is Pepe\n",
      "Her name is Karla\n",
      "Her name is Montse\n",
      "You see what I did? :D\n"
     ]
    }
   ],
   "source": [
    "he = \"His\" # Variables\n",
    "she = \"Her\" # Variables\n",
    "x = \"name is\" # Variables\n",
    "c = \"Carlos\" # Variables\n",
    "p = \"Pepe\" # Variables\n",
    "k = \"Karla\" # Variables\n",
    "m = \"Montse\" # Variables\n",
    "\n",
    "print(f\"{he} {x} {c}\") # Printing Variables\n",
    "print(f\"{he} {x} {p}\") # Printing Variables\n",
    "print(f\"{she} {x} {k}\") # Printing Variables\n",
    "print(f\"{she} {x} {m}\") # Printing Variables\n",
    "print(\"You see what I did? :D\") # Just text"
   ]
  },
  {
   "cell_type": "markdown",
   "metadata": {},
   "source": [
    "# More Printing"
   ]
  },
  {
   "cell_type": "markdown",
   "metadata": {},
   "source": [
    "I only understood that we can also multiply text. Maybe this will be useful to do some repetitions."
   ]
  },
  {
   "cell_type": "markdown",
   "metadata": {},
   "source": [
    "###### EXAMPLE"
   ]
  },
  {
   "cell_type": "code",
   "execution_count": 39,
   "metadata": {},
   "outputs": [
    {
     "name": "stdout",
     "output_type": "stream",
     "text": [
      "Umbrella - Rihana (chorus)\n",
      "Under my umbrella, ella, ella, eh, eh, eh \n",
      "Under my umbrella, ella, ella, eh, eh, eh \n",
      "Under my umbrella, ella, ella, eh, eh, eh \n",
      "\n"
     ]
    }
   ],
   "source": [
    "print(\"Umbrella - Rihana (chorus)\")\n",
    "\n",
    "el = \"ella\"\n",
    "e = \"eh\"\n",
    "print(\"Under my umbrella, ella, ella, eh, eh, eh \\n\" * 3)"
   ]
  },
  {
   "cell_type": "markdown",
   "metadata": {},
   "source": [
    "#  Printing, Printing"
   ]
  },
  {
   "cell_type": "markdown",
   "metadata": {},
   "source": [
    "###### Invalid Understanding"
   ]
  },
  {
   "cell_type": "markdown",
   "metadata": {},
   "source": [
    "I didn't understand this exercise :("
   ]
  },
  {
   "cell_type": "markdown",
   "metadata": {},
   "source": [
    "# Printing, Printing, Printing"
   ]
  },
  {
   "cell_type": "markdown",
   "metadata": {},
   "source": [
    "In this last \"print\" section we can see that we can also stablish variables in a list form, using \"\\n\", but we can also use this to do other things, like a line jump."
   ]
  },
  {
   "cell_type": "markdown",
   "metadata": {},
   "source": [
    "###### EXAMPLE"
   ]
  },
  {
   "cell_type": "code",
   "execution_count": 41,
   "metadata": {},
   "outputs": [
    {
     "name": "stdout",
     "output_type": "stream",
     "text": [
      "Samsung\n",
      "Huawei\n",
      "Apple\n"
     ]
    }
   ],
   "source": [
    "cellphones = \"Samsung\\nHuawei\\nApple\"\n",
    "\n",
    "print(cellphones)"
   ]
  },
  {
   "cell_type": "markdown",
   "metadata": {},
   "source": [
    "# What Was That?"
   ]
  },
  {
   "cell_type": "markdown",
   "metadata": {},
   "source": [
    "We can use the backslash to type some characters that are difficult for the programming language to interpretate. For example a to use vignettes, use a tab, or a simple backslash."
   ]
  },
  {
   "cell_type": "markdown",
   "metadata": {},
   "source": [
    "###### EXAMPLE"
   ]
  },
  {
   "cell_type": "code",
   "execution_count": 49,
   "metadata": {},
   "outputs": [
    {
     "name": "stdout",
     "output_type": "stream",
     "text": [
      "\t This is with a tabulation\n",
      "This is without a tabulation \n",
      "\n",
      "\\ A backslash\n",
      "\t*a \n",
      " \t*b \n",
      " \t*c\n"
     ]
    }
   ],
   "source": [
    "print(\"\\t This is with a tabulation\")\n",
    "print(\"This is without a tabulation \\n\")\n",
    "print(\"\\\\ A backslash\")\n",
    "print(\"\\t*a \\n \\t*b \\n \\t*c\")"
   ]
  },
  {
   "cell_type": "code",
   "execution_count": null,
   "metadata": {},
   "outputs": [],
   "source": []
  }
 ],
 "metadata": {
  "kernelspec": {
   "display_name": "Python 3",
   "language": "python",
   "name": "python3"
  },
  "language_info": {
   "codemirror_mode": {
    "name": "ipython",
    "version": 3
   },
   "file_extension": ".py",
   "mimetype": "text/x-python",
   "name": "python",
   "nbconvert_exporter": "python",
   "pygments_lexer": "ipython3",
   "version": "3.7.3"
  }
 },
 "nbformat": 4,
 "nbformat_minor": 2
}
