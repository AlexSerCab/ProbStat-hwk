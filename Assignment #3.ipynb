{
 "cells": [
  {
   "cell_type": "code",
   "execution_count": 2,
   "metadata": {},
   "outputs": [
    {
     "name": "stdout",
     "output_type": "stream",
     "text": [
      "How old are you? 19\n",
      "How old are you? 20\n",
      "How old are you? 19\n",
      "19.333333333333332\n"
     ]
    }
   ],
   "source": [
    "age1 = int(input(\"How old are you? \"))\n",
    "age2 = int(input(\"How old are you? \"))\n",
    "age3 = int(input(\"How old are you? \"))\n",
    "\n",
    "print ((age1+age2+age3)/3)"
   ]
  },
  {
   "cell_type": "markdown",
   "metadata": {},
   "source": [
    "This program just save 3 different variables, age1, age2 and age3. The variables are defined as integers in order to avoid that someone try to write a decimal number or letters, and the question is written inside the variable. Then it print the result of the arithmetical operation that is need to find the sample mean, using the values that were already introduced."
   ]
  }
 ],
 "metadata": {
  "kernelspec": {
   "display_name": "Python 3",
   "language": "python",
   "name": "python3"
  },
  "language_info": {
   "codemirror_mode": {
    "name": "ipython",
    "version": 3
   },
   "file_extension": ".py",
   "mimetype": "text/x-python",
   "name": "python",
   "nbconvert_exporter": "python",
   "pygments_lexer": "ipython3",
   "version": "3.7.3"
  }
 },
 "nbformat": 4,
 "nbformat_minor": 2
}
