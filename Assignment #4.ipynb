{
 "cells": [
  {
   "cell_type": "code",
   "execution_count": 4,
   "metadata": {},
   "outputs": [
    {
     "name": "stdout",
     "output_type": "stream",
     "text": [
      "How many names want you to introduce in the list? 2\n",
      "Introduce a name: Lupita\n",
      "Introduce a name: Alex\n",
      "Give me the number of the name that you want me to print: 0\n",
      "Lupita\n"
     ]
    }
   ],
   "source": [
    "c = int(input(\"How many names want you to introduce in the list? \"))\n",
    "n = []\n",
    "total = 0\n",
    "\n",
    "for i in range (0, c):\n",
    "    x = input(\"Introduce a name: \")\n",
    "    n.append(x)\n",
    "    total += 1\n",
    "\n",
    "ASC = int(input(\"Give me the number of the name that you want me to print: \"))\n",
    "print(n[ASC])"
   ]
  },
  {
   "cell_type": "code",
   "execution_count": 3,
   "metadata": {},
   "outputs": [
    {
     "name": "stdout",
     "output_type": "stream",
     "text": [
      "How many names want you to introduce in the list? 2\n",
      "Introduce a name: Alex\n",
      "Introduce a name: Lupita\n",
      "['Alex', 'Lupita']\n",
      "Give me the number of the name that you want me to print: 1\n",
      "Lupita\n"
     ]
    }
   ],
   "source": [
    "c = int(input(\"How many names want you to introduce in the list? \"))\n",
    "n = []\n",
    "total = 0\n",
    "\n",
    "for i in range (0, c):\n",
    "    x = input(\"Introduce a name: \")\n",
    "    n.append(x)\n",
    "    total += 1\n",
    "\n",
    "print(n)\n",
    "\n",
    "ASC = int(input(\"Give me the number of the name that you want me to print: \"))\n",
    "print(n[ASC])"
   ]
  }
 ],
 "metadata": {
  "kernelspec": {
   "display_name": "Python 3",
   "language": "python",
   "name": "python3"
  },
  "language_info": {
   "codemirror_mode": {
    "name": "ipython",
    "version": 3
   },
   "file_extension": ".py",
   "mimetype": "text/x-python",
   "name": "python",
   "nbconvert_exporter": "python",
   "pygments_lexer": "ipython3",
   "version": "3.7.3"
  }
 },
 "nbformat": 4,
 "nbformat_minor": 2
}
