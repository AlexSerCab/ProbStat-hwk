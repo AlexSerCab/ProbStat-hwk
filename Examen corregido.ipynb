{
 "cells": [
  {
   "cell_type": "code",
   "execution_count": 4,
   "metadata": {},
   "outputs": [
    {
     "name": "stdout",
     "output_type": "stream",
     "text": [
      "Introduce x value: 1\n",
      "Intorduce y value: 10\n",
      "Introduce x value: 2\n",
      "Intorduce y value: 11\n",
      "\n",
      "Write 0 to stop process\n",
      "Introduce x value: 3\n",
      "Intorduce y value: 13\n",
      "La ecuacion de la recta es: y= 8.333333333333334 + 1.5x\n",
      "\n",
      "Time to reach 35°C: 0.0 hours, 0.0 minutes, 17.777777777777775 seconds\n",
      "\n",
      "Write 0 to stop process\n",
      "Introduce x value: 4\n",
      "Intorduce y value: 13\n",
      "La ecuacion de la recta es: y= 9.0 + 1.1x\n",
      "\n",
      "Time to reach 35°C: 0.0 hours, 0.0 minutes, 23.636363636363633 seconds\n",
      "\n",
      "Write 0 to stop process\n",
      "Introduce x value: 5\n",
      "Intorduce y value: 14\n",
      "La ecuacion de la recta es: y= 9.2 + 1.0x\n",
      "\n",
      "Time to reach 35°C: 0.0 hours, 0.0 minutes, 25.8 seconds\n",
      "\n",
      "Write 0 to stop process\n",
      "Introduce x value: 0\n",
      "La ecuacion de la recta es: y= 9.2 + 1.0x\n",
      "\n",
      "Time to reach 35°C: 0.0 hours, 0.0 minutes, 25.8 seconds\n"
     ]
    }
   ],
   "source": [
    "i = 0\n",
    "n = 0\n",
    "sum_x = 0\n",
    "sum_y = 0\n",
    "sum_xy = 0\n",
    "sum_x2 = 0\n",
    "\n",
    "for k in range(0,2):\n",
    "    x = float(input(\"Introduce x value: \"))\n",
    "    y = float(input(\"Intorduce y value: \"))\n",
    "    sum_x += x\n",
    "    sum_y += y\n",
    "    sum_xy += x*y\n",
    "    sum_x2 += (x**2)\n",
    "    n += 1\n",
    "    \n",
    "while i < 1:\n",
    "    \n",
    "    print(\"\\nWrite 0 to stop process\")\n",
    "    x = float(input(\"Introduce x value: \"))\n",
    "\n",
    "    if x != 0:\n",
    "        y = float(input(\"Intorduce y value: \"))\n",
    "        sum_x += x\n",
    "        sum_y += y\n",
    "        sum_xy += x*y\n",
    "        sum_x2 += (x**2)\n",
    "        n += 1\n",
    "        \n",
    "    else:\n",
    "        if n*sum_x2 == sum_x**2:\n",
    "            print(\"\\nYou need more values\")\n",
    "        else:\n",
    "            i += 1\n",
    "    \n",
    "    if n*sum_x2 != sum_x**2:\n",
    "        b1 = (n*sum_xy - sum_x*sum_y)/(n*sum_x2 - sum_x**2)\n",
    "        b0 = (sum_y - b1*sum_x)/n\n",
    "        time = (35 - b0) / b1\n",
    "        hours = time // 3600\n",
    "        minutes = (time % 3600) // 60\n",
    "        seconds = (time % 3600) % 60\n",
    "        \n",
    "        print(f\"La ecuacion de la recta es: y= {b0} + {b1}x\")\n",
    "        print(f\"\\nTime to reach 35°C: {hours} hours, {minutes} minutes, {seconds} seconds\")"
   ]
  },
  {
   "cell_type": "code",
   "execution_count": 2,
   "metadata": {},
   "outputs": [
    {
     "name": "stdout",
     "output_type": "stream",
     "text": [
      "How manye values you want to introduce? 5\n",
      "Introduce x1: 1\n",
      "Introduce y1: 10\n",
      "Introduce x2: 2\n",
      "Introduce y2: 11\n",
      "Introduce x3: 3\n",
      "Introduce y3: 13\n",
      "Introduce x4: 4\n",
      "Introduce y4: 13\n",
      "Introduce x5: 5\n",
      "Introduce y5: 14\n",
      "La ecuacion de la recta es: y= 9.2 + 1.0x\n",
      "\n",
      "Time: \n",
      "\n",
      "25.8 seconds\n"
     ]
    }
   ],
   "source": [
    "values = int(input(\"How manye values you want to introduce? \"))\n",
    "n = 0\n",
    "sum_x = 0\n",
    "sum_y = 0\n",
    "sum_xy = 0\n",
    "sum_x2 = 0\n",
    "\n",
    "while values <= 1:\n",
    "    print(\"You need more values.\")\n",
    "\n",
    "for i in range(0 , values):\n",
    "    x = int(input(f\"Introduce x{i+1}: \"))\n",
    "    y = int(input(f\"Introduce y{i+1}: \"))\n",
    "    sum_x += x\n",
    "    sum_y += y\n",
    "    sum_xy += x*y\n",
    "    sum_x2 += (x**2)\n",
    "    n += 1\n",
    "b1 = (n*sum_xy - sum_x*sum_y)/(n*sum_x2 - sum_x**2)\n",
    "b0 = (sum_y - b1*sum_x)/n\n",
    "time = (35-b0)/b1\n",
    "\n",
    "print(f\"La ecuacion de la recta es: y= {b0} + {b1}x\")\n",
    "print(f\"\\nTime: \\n\\n{time} seconds\")"
   ]
  },
  {
   "cell_type": "code",
   "execution_count": null,
   "metadata": {},
   "outputs": [],
   "source": []
  }
 ],
 "metadata": {
  "kernelspec": {
   "display_name": "Python 3",
   "language": "python",
   "name": "python3"
  },
  "language_info": {
   "codemirror_mode": {
    "name": "ipython",
    "version": 3
   },
   "file_extension": ".py",
   "mimetype": "text/x-python",
   "name": "python",
   "nbconvert_exporter": "python",
   "pygments_lexer": "ipython3",
   "version": "3.7.3"
  }
 },
 "nbformat": 4,
 "nbformat_minor": 2
}
